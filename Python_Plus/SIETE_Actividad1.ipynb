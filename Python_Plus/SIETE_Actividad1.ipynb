{
 "cells": [
  {
   "cell_type": "markdown",
   "id": "b015a19f",
   "metadata": {},
   "source": [
    "# Actividad 1  por Python plus - Parte I \n",
    "\n",
    "## Resolvé el siguiente desafío:"
   ]
  },
  {
   "cell_type": "markdown",
   "id": "a9d344ff",
   "metadata": {},
   "source": [
    "**EJERCICIO 7:** dado el archivo denominado [log_catedras](https://archivos.linti.unlp.edu.ar/index.php/s/ofgZh41dUYMYX6H) que contiene  el registro de  accesos al entorno catedras.linti, se desea:\n",
    "1. Generar una función que retorne los 5 usuarios que más veces accedieron a los materiales de las clases de teoría. Esto se puede  chequear si en la columna \"Contexto del evento\" aparece el texto \"Página: Material de las clases\".  Esta función recibe un parámetro opcional que indica el orden en que se ordenan los usuarios: \"A\", si se ordena en forma ascendente, \"D\" si es descendente o \"None\" si no se aplica ningún orden. Por defecto la función no ordena.\n",
    "2. Escribir un programa que, utilizando la función anterior, muestre un listado similar al siguiente:\n",
    " \n",
    "```\n",
    "------------------------------------------\n",
    "Usuario en el sistema  Cantidad de accesos\n",
    "------------------------------------------\n",
    "Butterfree             78\n",
    "Pikachu                71\n",
    "Oddish                 67\n",
    "Kingler                65\n",
    "Tauros                 65\n",
    "```"
   ]
  },
  {
   "cell_type": "code",
   "execution_count": 1,
   "id": "5021bb7c",
   "metadata": {},
   "outputs": [
    {
     "name": "stdout",
     "output_type": "stream",
     "text": [
      "------------------------------------------\n",
      "Usuario en el sistema  Cantidad de accesos\n",
      "------------------------------------------\n",
      "Omastar                33 \n",
      "Raticate               31 \n",
      "Dugtrio                29 \n",
      "Butterfree             24 \n",
      "Ponyta                 22 \n"
     ]
    }
   ],
   "source": [
    "#Solución\n",
    "import csv\n",
    "from collections import Counter\n",
    "\n",
    "\n",
    "def actividad (archivo,orden):\n",
    "    usuarios = {}\n",
    "    with open (archivo, 'r') as arch:                               \n",
    "        csvreader = csv.reader(arch)\n",
    "        encabezado= next(csvreader)\n",
    "        for elem in csvreader:\n",
    "            if \"Página: Material de las clases\" in elem[3]:         #Verifico que el contexto del evento sea Pagina: material de las clases para saber si entro\n",
    "                usuario = elem[1]                                   #Me guardo el usuario\n",
    "                if  usuario in usuarios:                            #Si en mi diccionario ya tengo un usuario con ese nombre, le sumo una entrada\n",
    "                    usuarios[usuario] +=1\n",
    "                else:\n",
    "                    usuarios [usuario] = 1                          #Si en mi diccionario no tengo un usuario con ese nombre, le asigno una primera entrada\n",
    "\n",
    "    cinco_max = dict(Counter(usuarios).most_common(5))              #Con un counter most common saco los 5 usuarios (key) con mayor cantidad de entradas (valor)\n",
    "    cinco = {}\n",
    "    #print (cinco_max)\n",
    "\n",
    "    match orden:                                                    #Ordeno\n",
    "        case  \"A\":\n",
    "            for key in sorted(cinco_max.keys()):                    #Ordeno ascendentemente \n",
    "                cinco[key] = cinco_max[key]\n",
    "        case  \"D\":\n",
    "            for key in sorted(cinco_max.keys(), reverse=True):      #El parametro reverse = true me da vuelta el diccionario para que quede descendente\n",
    "                cinco[key] = cinco_max[key]\n",
    "        case _:\n",
    "            cinco = cinco_max                                       #No aplico ningun orden\n",
    "\n",
    "    return cinco\n",
    "\n",
    "\n",
    "def print_resultados (usuarios):\n",
    "    print (\"------------------------------------------\")\n",
    "    print (\"Usuario en el sistema  Cantidad de accesos\")\n",
    "    print (\"------------------------------------------\")\n",
    "    for key,value in usuarios.items():                              #Itero quedandome con la key y el valor\n",
    "        print (f\"{key:<22} {value} \")                               #Imprimo la key y dejo lugar para el valor\n",
    "\n",
    "\n",
    "cinco_usuarios_max= actividad('log_catedras.csv', None)             #Si se ingresa \"A\" o \"D\" cambia el orden en que imprime los nombres de usuarios \n",
    "print_resultados(cinco_usuarios_max)\n",
    "\n"
   ]
  }
 ],
 "metadata": {
  "kernelspec": {
   "display_name": "Python 3 (ipykernel)",
   "language": "python",
   "name": "python3"
  },
  "language_info": {
   "codemirror_mode": {
    "name": "ipython",
    "version": 3
   },
   "file_extension": ".py",
   "mimetype": "text/x-python",
   "name": "python",
   "nbconvert_exporter": "python",
   "pygments_lexer": "ipython3",
   "version": "3.11.2"
  }
 },
 "nbformat": 4,
 "nbformat_minor": 5
}
